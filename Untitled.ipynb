{
 "cells": [
  {
   "cell_type": "code",
   "execution_count": 10,
   "id": "23b701e1",
   "metadata": {},
   "outputs": [],
   "source": [
    "import logging\n",
    "import os\n",
    "import psycopg2\n",
    "from dotenv import load_dotenv\n",
    "from sqlalchemy import create_engine\n",
    "from sqlalchemy.engine.base import Engine\n",
    "import pandas as pd\n",
    "\n",
    "\n",
    "def mysql_engine_factory(\n",
    "        host=os.environ.get('MYSQL_HOST'),\n",
    "        port=os.environ.get('MYSQL_PORT'),\n",
    "        db=os.environ.get('MYSQL_DATABASE'),\n",
    "        username=os.environ.get('MYSQL_USERNAME'),\n",
    "        password=os.environ.get('MYSQL_PASSWORD')\n",
    ") -> Engine:\n",
    "    \"\"\"\n",
    "    Create a database engine from a dictionary of database info.\n",
    "    \"\"\"\n",
    "    try:\n",
    "        engine = create_engine(f\"mysql+pymysql://{username}:{password}@{host}:{port}/{db}\")\n",
    "    except psycopg2.OperationalError:\n",
    "        logging.error(f\"OperationalError check hostname: {host}\")\n",
    "        engine = None\n",
    "\n",
    "    return engine\n",
    "\n",
    "\n",
    "def db_copy_and_paste_time_range(\n",
    "        mysql_db,\n",
    "        mysql_table,\n",
    "        start_date,\n",
    "    ):\n",
    "    logging.info(f\"Copy from start date {start_date}\")\n",
    "    query = f\"\"\"\n",
    "        select * from {mysql_db}.{mysql_table} \n",
    "        where created_at >= '{start_date}'\n",
    "    \"\"\"\n",
    "    mysql_engine1 = mysql_engine_factory(\n",
    "        host='localhost',\n",
    "        port=3306,\n",
    "        db='product',\n",
    "        username='root',\n",
    "        password='dane1997'\n",
    "    )\n",
    "    \n",
    "    mysql_engine = mysql_engine_factory(\n",
    "        host='pim-production.db.kollex.io',\n",
    "        port=3306,\n",
    "        db='gfghdata',\n",
    "        username='bi_readonly',\n",
    "        password='78tvi*Cd*-su9hvQHUaD9btZFjDpJCc3ZxoQeZGVeFhRW6o9mR4zzc!Vg_t92Gyo'\n",
    "    )\n",
    "    logging.info(\"Reading from source table\")\n",
    "    my_sql_data = pd.read_sql_query(query, mysql_engine)\n",
    "    logging.info(\"Writing to destination table\")\n",
    "    my_sql_data.to_sql(\n",
    "        'product_product',\n",
    "        con=mysql_engine1,\n",
    "        schema='product',\n",
    "        if_exists='replace'\n",
    "    )\n"
   ]
  },
  {
   "cell_type": "code",
   "execution_count": 2,
   "id": "f640668c",
   "metadata": {},
   "outputs": [],
   "source": [
    "db_copy_and_paste_time_range(\n",
    "    'gfghdata',\n",
    "    'product_import',\n",
    "    '2022-03-20'\n",
    ")"
   ]
  },
  {
   "cell_type": "code",
   "execution_count": 15,
   "id": "9f8e5f0c",
   "metadata": {},
   "outputs": [
    {
     "data": {
      "text/plain": [
       "5714789"
      ]
     },
     "execution_count": 15,
     "metadata": {},
     "output_type": "execute_result"
    }
   ],
   "source": [
    "import pandahouse as ph\n",
    "import pandas as pd\n",
    "\n",
    "query = f\"\"\"\n",
    "        select * from product.product_product \n",
    "        where created_at >= '2022-03-20'\n",
    "    \"\"\"\n",
    "\n",
    "mysql_engine1 = mysql_engine_factory(\n",
    "        host='localhost',\n",
    "        port=3306,\n",
    "        db='product',\n",
    "        username='root',\n",
    "        password='dane1997'\n",
    "    )\n",
    "\n",
    "my_sql_data = pd.read_sql_query(query, mysql_engine1)\n",
    "my_sql_data.drop('index', inplace=True, axis=1)\n",
    "my_sql_data.drop('gfgh_product_id', inplace=True, axis=1)\n",
    "connection = dict(database='product',\n",
    "                  host='http://127.0.0.1:8123',\n",
    "                  user='default',\n",
    "                  password='')\n",
    "\n",
    "ph.to_clickhouse(my_sql_data, 'product', index=False, chunksize=100000, connection=connection)"
   ]
  },
  {
   "cell_type": "code",
   "execution_count": null,
   "id": "e615fac6",
   "metadata": {},
   "outputs": [],
   "source": []
  }
 ],
 "metadata": {
  "kernelspec": {
   "display_name": "Python 3 (ipykernel)",
   "language": "python",
   "name": "python3"
  },
  "language_info": {
   "codemirror_mode": {
    "name": "ipython",
    "version": 3
   },
   "file_extension": ".py",
   "mimetype": "text/x-python",
   "name": "python",
   "nbconvert_exporter": "python",
   "pygments_lexer": "ipython3",
   "version": "3.9.12"
  }
 },
 "nbformat": 4,
 "nbformat_minor": 5
}
